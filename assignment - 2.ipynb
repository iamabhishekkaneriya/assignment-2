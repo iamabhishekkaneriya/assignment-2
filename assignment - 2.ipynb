{
 "cells": [
  {
   "cell_type": "code",
   "execution_count": 13,
   "id": "d6e3cc92-26fd-4651-90a3-ebfc4e601240",
   "metadata": {},
   "outputs": [
    {
     "name": "stdout",
     "output_type": "stream",
     "text": [
      "comments example\n"
     ]
    },
    {
     "data": {
      "text/plain": [
       "'there are three types of comments- \\nas a separate line, beside the corresponding statement of code, or as a multi-line comment block.\\n'"
      ]
     },
     "execution_count": 13,
     "metadata": {},
     "output_type": "execute_result"
    }
   ],
   "source": [
    "#Q1. How do you comment code in Python? What are the different types of comments?#\n",
    "\n",
    " #write comment code in this compiler#\n",
    "print('comments example')\n",
    "\n",
    "'''there are three types of comments- \n",
    "as a separate line, beside the corresponding statement of code, or as a multi-line comment block.\n",
    "'''"
   ]
  },
  {
   "cell_type": "code",
   "execution_count": 7,
   "id": "b946f7f7-d2ef-4ad2-8cff-9c0462a20601",
   "metadata": {},
   "outputs": [
    {
     "data": {
      "text/plain": [
       "int"
      ]
     },
     "execution_count": 7,
     "metadata": {},
     "output_type": "execute_result"
    }
   ],
   "source": [
    "#Q2. What are variables in Python? How do you declare and assign values to variables?#\n",
    "'''A Python variable is a reserved memory location to store values.\n",
    "In other words, a variable in a python program gives data to the computer for processing. \n",
    "Every value in Python has a datatype.\n",
    "Different data types in Python are Numbers, List, Tuple, Strings, Dictionary, etc.'''\n",
    "\n",
    "a = 200\n",
    "type(a)\n"
   ]
  },
  {
   "cell_type": "code",
   "execution_count": 8,
   "id": "2bd3b413-a088-4a46-946c-6af0cd4902fe",
   "metadata": {},
   "outputs": [
    {
     "data": {
      "text/plain": [
       "str"
      ]
     },
     "execution_count": 8,
     "metadata": {},
     "output_type": "execute_result"
    }
   ],
   "source": [
    "b = \"PWskills\"\n",
    "type(b)"
   ]
  },
  {
   "cell_type": "code",
   "execution_count": 9,
   "id": "9bb501b2-aedc-49e1-aa93-5ee5cb90ed2a",
   "metadata": {},
   "outputs": [
    {
     "data": {
      "text/plain": [
       "list"
      ]
     },
     "execution_count": 9,
     "metadata": {},
     "output_type": "execute_result"
    }
   ],
   "source": [
    "\n",
    "c = [23,54,67.76,'are',True,5]\n",
    "type(c)"
   ]
  },
  {
   "cell_type": "code",
   "execution_count": 13,
   "id": "5528ad0b-80d0-4ef8-a5fc-cc05e9f9d3e0",
   "metadata": {},
   "outputs": [
    {
     "name": "stdout",
     "output_type": "stream",
     "text": [
      "10\n"
     ]
    },
    {
     "data": {
      "text/plain": [
       "str"
      ]
     },
     "execution_count": 13,
     "metadata": {},
     "output_type": "execute_result"
    }
   ],
   "source": [
    "#How do you convert one data type to another in Python?#\n",
    "\n",
    "a = 10\n",
    "s = str(a)\n",
    "print(s)\n",
    "type(s)\n"
   ]
  },
  {
   "cell_type": "code",
   "execution_count": 15,
   "id": "9d7b9805-a8f5-4fae-adfc-45a5abbf2b7b",
   "metadata": {},
   "outputs": [
    {
     "name": "stdout",
     "output_type": "stream",
     "text": [
      "Hello python \n"
     ]
    }
   ],
   "source": [
    "#Q4. How do you write and execute a Python script from the command line?#\n",
    "'''It’s quite easy to run Python scripts from the command line.\n",
    "\n",
    "Verify your terminal or command prompt can run Python\n",
    "Create a Python script that is error-free\n",
    "Use python your/file/name.py to run your script from the terminal'''\n",
    "\n",
    "print(\"Hello python \")"
   ]
  },
  {
   "cell_type": "code",
   "execution_count": 14,
   "id": "7719c5eb-f014-4a13-be46-8d55ed23f1e9",
   "metadata": {},
   "outputs": [
    {
     "name": "stdout",
     "output_type": "stream",
     "text": [
      "[2, 3]\n"
     ]
    }
   ],
   "source": [
    "#Q5.Given a list my_list = [1, 2, 3, 4, 5], write the code to slice the list and obtain the sub-list [2, 3].#\n",
    "\n",
    "my_list = [1, 2, 3, 4, 5]\n",
    "print(my_list[1:3:1])"
   ]
  },
  {
   "cell_type": "code",
   "execution_count": 6,
   "id": "a517da9f-fd84-4af5-b456-0268555d88f3",
   "metadata": {},
   "outputs": [
    {
     "data": {
      "text/plain": [
       "complex"
      ]
     },
     "execution_count": 6,
     "metadata": {},
     "output_type": "execute_result"
    }
   ],
   "source": [
    "#Q6. What is a complex number in mathematics, and how is it represented in Python?#\n",
    "'''Python helps to tackle and manipulate them.\n",
    "Complex numbers are created from two real numbers. \n",
    "You can create it directly or you can use the complex function. \n",
    "It is written in the form of (x + yj). \n",
    "where x and y are real numbers and j is an imaginary number which is the square root of -1.'''\n",
    "\n",
    "a = 4+5j\n",
    "type(a)\n"
   ]
  },
  {
   "cell_type": "code",
   "execution_count": 3,
   "id": "90e15d3c-5e4e-4993-bc97-575496824158",
   "metadata": {},
   "outputs": [
    {
     "name": "stdout",
     "output_type": "stream",
     "text": [
      "25\n"
     ]
    }
   ],
   "source": [
    "#Q7. What is the correct way to declare a variable named age and assign the value 25 to it?#\n",
    "\n",
    "\n",
    "age = 25 #variable named#\n",
    "print(age) #Assign value#"
   ]
  },
  {
   "cell_type": "code",
   "execution_count": 5,
   "id": "735d60cf-a8c9-4f2b-985f-f741d500c129",
   "metadata": {},
   "outputs": [
    {
     "name": "stdout",
     "output_type": "stream",
     "text": [
      "9.99\n",
      "<class 'float'>\n"
     ]
    }
   ],
   "source": [
    "#Q8. Declare a variable named price and assign the value 9.99 to it. What data type does this variable belong to?#\n",
    "\n",
    "price = 9.99\n",
    "print(price)\n",
    "print(type(price))"
   ]
  },
  {
   "cell_type": "code",
   "execution_count": 8,
   "id": "7c2c17be-2279-4d1f-b095-c46fb58f6136",
   "metadata": {},
   "outputs": [
    {
     "name": "stdout",
     "output_type": "stream",
     "text": [
      "Abhishek Kaneriya\n"
     ]
    },
    {
     "data": {
      "text/plain": [
       "17"
      ]
     },
     "execution_count": 8,
     "metadata": {},
     "output_type": "execute_result"
    }
   ],
   "source": [
    "#Q9. Create a variable named name and assign your full name to it as a string. How would you print the value of this variable?#\n",
    "\n",
    "name = 'Abhishek Kaneriya'\n",
    "print(name)\n",
    "len(name)\n"
   ]
  },
  {
   "cell_type": "code",
   "execution_count": 13,
   "id": "671cfdec-79a3-4d72-a3d4-53584636cabb",
   "metadata": {},
   "outputs": [
    {
     "name": "stdout",
     "output_type": "stream",
     "text": [
      "World\n"
     ]
    }
   ],
   "source": [
    "#Q10. Given the string \"Hello, World!\", extract the substring \"World\".#\n",
    "\n",
    "S = \"Hello, World!\"\n",
    "print(S[7:12])\n"
   ]
  },
  {
   "cell_type": "code",
   "execution_count": 15,
   "id": "97949204-3a34-47a3-9b15-ed4c29f0090e",
   "metadata": {},
   "outputs": [
    {
     "name": "stdout",
     "output_type": "stream",
     "text": [
      "True\n"
     ]
    }
   ],
   "source": [
    "#Q11. Create a variable named \"is_student\" and assign it a boolean value indicating whether you are currently a student or not.#\n",
    "\n",
    "is_student = True\n",
    "print(is_student)\n"
   ]
  },
  {
   "cell_type": "code",
   "execution_count": null,
   "id": "26f73702-0541-4009-9939-0ca9e2263908",
   "metadata": {},
   "outputs": [],
   "source": []
  },
  {
   "cell_type": "code",
   "execution_count": null,
   "id": "504d86e4-e4dc-4acc-b7be-332e1d437688",
   "metadata": {},
   "outputs": [],
   "source": []
  }
 ],
 "metadata": {
  "kernelspec": {
   "display_name": "Python 3 (ipykernel)",
   "language": "python",
   "name": "python3"
  },
  "language_info": {
   "codemirror_mode": {
    "name": "ipython",
    "version": 3
   },
   "file_extension": ".py",
   "mimetype": "text/x-python",
   "name": "python",
   "nbconvert_exporter": "python",
   "pygments_lexer": "ipython3",
   "version": "3.10.8"
  }
 },
 "nbformat": 4,
 "nbformat_minor": 5
}
